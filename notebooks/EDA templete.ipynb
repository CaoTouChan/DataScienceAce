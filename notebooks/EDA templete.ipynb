{
 "cells": [
  {
   "cell_type": "markdown",
   "source": [
    "# Import Libraries"
   ],
   "metadata": {
    "collapsed": false
   }
  },
  {
   "cell_type": "code",
   "execution_count": null,
   "outputs": [],
   "source": [
    "import pandas as pd\n",
    "import numpy as np\n",
    "import matplotlib.pyplot as plt\n",
    "import seaborn as sns\n",
    "from ydata_profiling import ProfileReport\n",
    "from dataprep.eda import create_report"
   ],
   "metadata": {
    "collapsed": false
   }
  },
  {
   "cell_type": "markdown",
   "source": [
    "# Load Data"
   ],
   "metadata": {
    "collapsed": false
   }
  },
  {
   "cell_type": "code",
   "execution_count": null,
   "outputs": [],
   "source": [
    "FILE_PATH = '' # TODO: Add file path\n",
    "\n",
    "df = pd.read_csv(FILE_PATH)"
   ],
   "metadata": {
    "collapsed": false
   }
  },
  {
   "cell_type": "markdown",
   "source": [
    "# Data Overview"
   ],
   "metadata": {
    "collapsed": false
   }
  },
  {
   "cell_type": "markdown",
   "source": [
    "## General"
   ],
   "metadata": {
    "collapsed": false
   }
  },
  {
   "cell_type": "code",
   "execution_count": null,
   "outputs": [],
   "source": [
    "# Display the first 5 rows of the DataFrame\n",
    "print(df.head())\n",
    "\n",
    "# Display a concise summary of the DataFrame\n",
    "print(df.info())\n",
    "\n",
    "# Generate descriptive statistics of the DataFrame\n",
    "print(df.describe())"
   ],
   "metadata": {
    "collapsed": false
   }
  },
  {
   "cell_type": "code",
   "execution_count": null,
   "outputs": [],
   "source": [],
   "metadata": {
    "collapsed": false
   }
  },
  {
   "cell_type": "markdown",
   "source": [
    "## AutoEDA"
   ],
   "metadata": {
    "collapsed": false
   }
  },
  {
   "cell_type": "markdown",
   "source": [
    "### [Pandas Profiling](https://docs.profiling.ydata.ai/4.6/)\n",
    "\n",
    "**Pandas Profiling** is a relatively mature tool that can complete the analysis process by directly inputting a DataFrame. The results are displayed in HTML format, and the analysis functions are also quite powerful.\n",
    "\n",
    "* Features: Field type analysis, variable distribution analysis, correlation analysis, missing value analysis, duplicate row analysis\n",
    "\n",
    "* Time consumption: short\n",
    "\n",
    "![Pandas Profiling](../data/img/ydata-profiling.gif)"
   ],
   "metadata": {
    "collapsed": false
   }
  },
  {
   "cell_type": "code",
   "execution_count": null,
   "outputs": [],
   "source": [
    "profile = ProfileReport(df, title=\"Profiling Report\")"
   ],
   "metadata": {
    "collapsed": false
   }
  },
  {
   "cell_type": "markdown",
   "source": [
    "### [Dataprep](https://dataprep.ai/)\n",
    "\n",
    "**Dataprep** is a flexible and powerful tool. It can specify columns for analysis and also perform interactive analysis in the Notebook.\n",
    "\n",
    "* Features: Field type analysis, variable distribution analysis, correlation analysis, missing value analysis, interactive analysis.\n",
    "* Time consumption: Longer\n",
    "\n",
    "![Dataprep](../data/img/dataprep.png)"
   ],
   "metadata": {
    "collapsed": false
   }
  },
  {
   "cell_type": "code",
   "execution_count": null,
   "outputs": [],
   "source": [
    "# Create the EDA report\n",
    "report = create_report(df)\n",
    "\n",
    "# Display the report\n",
    "report.show_browser()"
   ],
   "metadata": {
    "collapsed": false
   }
  },
  {
   "cell_type": "markdown",
   "source": [],
   "metadata": {
    "collapsed": false
   }
  },
  {
   "cell_type": "markdown",
   "source": [
    "# Data Cleaning\n",
    "\n",
    "* Check for missing values and handle them appropriately.\n",
    "* Check for duplicate entries and decide whether to keep them or not.\n",
    "* Check for data types of the columns and make necessary changes."
   ],
   "metadata": {
    "collapsed": false
   }
  },
  {
   "cell_type": "code",
   "execution_count": null,
   "outputs": [],
   "source": [
    "# Check for missing values\n",
    "print(df.isnull().sum())\n",
    "\n",
    "# Fill missing values with mean of the column\n",
    "# df.fillna(df.mean(), inplace=True)"
   ],
   "metadata": {
    "collapsed": false
   }
  },
  {
   "cell_type": "code",
   "execution_count": null,
   "outputs": [],
   "source": [
    "# Check for duplicate entries\n",
    "print(df.duplicated().sum())\n",
    "\n",
    "# Remove duplicate entries\n",
    "# df.drop_duplicates(inplace=True)"
   ],
   "metadata": {
    "collapsed": false
   }
  },
  {
   "cell_type": "code",
   "execution_count": null,
   "outputs": [],
   "source": [
    "\n",
    "\n",
    "# Check data types of the columns\n",
    "print(df.dtypes)\n",
    "\n",
    "# Convert a column to a correct data type (example: 'column_name' to datetime)\n",
    "# df['column_name'] = pd.to_datetime(df['column_name'])"
   ],
   "metadata": {
    "collapsed": false
   }
  },
  {
   "cell_type": "code",
   "execution_count": null,
   "outputs": [],
   "source": [
    "# Check for outliers using the IQR method\n",
    "Q1 = df.quantile(0.25)\n",
    "Q3 = df.quantile(0.75)\n",
    "IQR = Q3 - Q1\n",
    "\n",
    "# Define a condition for outliers\n",
    "condition = (df < (Q1 - 1.5 * IQR)) | (df > (Q3 + 1.5 * IQR))\n",
    "\n",
    "# Print the number of outliers in each column\n",
    "print(condition.sum())"
   ],
   "metadata": {
    "collapsed": false
   }
  },
  {
   "cell_type": "markdown",
   "source": [
    "# Univariate Analysis"
   ],
   "metadata": {
    "collapsed": false
   }
  },
  {
   "cell_type": "code",
   "execution_count": null,
   "outputs": [],
   "source": [
    "def perform_univariate_analysis(df):\n",
    "    \"\"\"\n",
    "    Perform univariate analysis on all columns of a DataFrame.\n",
    "\n",
    "    :param df: pandas DataFrame\n",
    "    \"\"\"\n",
    "    for column in df.columns:\n",
    "        # If the column is numerical\n",
    "        if pd.api.types.is_numeric_dtype(df[column]):\n",
    "            print(f\"\\nPerforming univariate analysis on numerical column: {column}\")\n",
    "\n",
    "            # Plot a histogram\n",
    "            plt.figure(figsize=(10, 6))\n",
    "            plt.hist(df[column], bins=30, color='skyblue')\n",
    "            plt.title(f'Histogram of {column}')\n",
    "            plt.xlabel(column)\n",
    "            plt.ylabel('Frequency')\n",
    "            plt.show()\n",
    "\n",
    "            # Plot a box plot\n",
    "            plt.figure(figsize=(10, 6))\n",
    "            plt.boxplot(df[column])\n",
    "            plt.title(f'Box Plot of {column}')\n",
    "            plt.ylabel(column)\n",
    "            plt.show()\n",
    "\n",
    "        # If the column is categorical\n",
    "        elif pd.api.types.is_string_dtype(df[column]):\n",
    "            print(f\"\\nPerforming univariate analysis on categorical column: {column}\")\n",
    "\n",
    "            # Plot a bar chart\n",
    "            plt.figure(figsize=(10, 6))\n",
    "            df[column].value_counts().plot(kind='bar', color='skyblue')\n",
    "            plt.title(f'Bar Chart of {column}')\n",
    "            plt.xlabel(column)\n",
    "            plt.ylabel('Frequency')\n",
    "            plt.show()\n",
    "\n",
    "perform_univariate_analysis(df)"
   ],
   "metadata": {
    "collapsed": false
   }
  },
  {
   "cell_type": "markdown",
   "source": [
    "# Bivariate Analysis"
   ],
   "metadata": {
    "collapsed": false
   }
  },
  {
   "cell_type": "code",
   "execution_count": null,
   "outputs": [],
   "source": [
    "def perform_bivariate_analysis(df):\n",
    "    \"\"\"\n",
    "    Perform bivariate analysis on all pairs of columns in a DataFrame.\n",
    "\n",
    "    :param df: pandas DataFrame\n",
    "    \"\"\"\n",
    "    # Get list of columns\n",
    "    columns = df.columns.tolist()\n",
    "\n",
    "    # Iterate over each pair of columns\n",
    "    for i in range(len(columns)):\n",
    "        for j in range(i + 1, len(columns)):\n",
    "            column1 = columns[i]\n",
    "            column2 = columns[j]\n",
    "\n",
    "            # If both columns are numerical\n",
    "            if pd.api.types.is_numeric_dtype(df[column1]) and pd.api.types.is_numeric_dtype(df[column2]):\n",
    "                print(f\"\\nPerforming bivariate analysis on numerical columns: {column1} and {column2}\")\n",
    "\n",
    "                # Plot a scatter plot\n",
    "                plt.figure(figsize=(10, 6))\n",
    "                plt.scatter(df[column1], df[column2], color='skyblue')\n",
    "                plt.title(f'Scatter Plot of {column1} and {column2}')\n",
    "                plt.xlabel(column1)\n",
    "                plt.ylabel(column2)\n",
    "                plt.show()\n",
    "\n",
    "            # If both columns are categorical\n",
    "            elif pd.api.types.is_string_dtype(df[column1]) and pd.api.types.is_string_dtype(df[column2]):\n",
    "                print(f\"\\nPerforming bivariate analysis on categorical columns: {column1} and {column2}\")\n",
    "\n",
    "                # Create a two-way table\n",
    "                two_way_table = pd.crosstab(df[column1], df[column2])\n",
    "                print(two_way_table)\n",
    "\n",
    "perform_bivariate_analysis(df)"
   ],
   "metadata": {
    "collapsed": false
   }
  },
  {
   "cell_type": "markdown",
   "source": [
    "# Multivariate Analysis"
   ],
   "metadata": {
    "collapsed": false
   }
  },
  {
   "cell_type": "code",
   "execution_count": null,
   "outputs": [],
   "source": [
    "def perform_multivariate_analysis(df):\n",
    "    \"\"\"\n",
    "    Perform multivariate analysis on all columns of a DataFrame.\n",
    "\n",
    "    :param df: pandas DataFrame\n",
    "    \"\"\"\n",
    "    # Plot a pair plot for all numerical variables\n",
    "    sns.pairplot(df)\n",
    "    plt.show()\n",
    "\n",
    "    # Calculate the correlation matrix\n",
    "    corr = df.corr()\n",
    "\n",
    "    # Plot a heatmap\n",
    "    plt.figure(figsize=(10, 6))\n",
    "    sns.heatmap(corr, annot=True)\n",
    "    plt.show()\n",
    "\n",
    "perform_multivariate_analysis(df)"
   ],
   "metadata": {
    "collapsed": false
   }
  },
  {
   "cell_type": "markdown",
   "source": [
    "# Correlation Analysis"
   ],
   "metadata": {
    "collapsed": false
   }
  },
  {
   "cell_type": "code",
   "execution_count": null,
   "outputs": [],
   "source": [
    "def perform_multivariate_analysis(df):\n",
    "    \"\"\"\n",
    "    Perform multivariate analysis on all columns of a DataFrame.\n",
    "\n",
    "    :param df: pandas DataFrame\n",
    "    \"\"\"\n",
    "    # Plot a pair plot for all numerical variables\n",
    "    sns.pairplot(df)\n",
    "    plt.show()\n",
    "\n",
    "    # Calculate the correlation matrix\n",
    "    corr = df.corr()\n",
    "\n",
    "    # Print the correlation matrix\n",
    "    print(\"\\nCorrelation Matrix:\")\n",
    "    print(corr)\n",
    "\n",
    "    # Find pairs of variables that have a high correlation\n",
    "    high_corr_pairs = [(col1, col2) for col1 in corr.columns for col2 in corr.columns if abs(corr[col1][col2]) > 0.75 and col1 != col2]\n",
    "    print(\"\\nPairs of variables with high correlation:\")\n",
    "    for pair in high_corr_pairs:\n",
    "        print(pair)\n",
    "\n",
    "    # Plot a heatmap\n",
    "    plt.figure(figsize=(10, 6))\n",
    "    sns.heatmap(corr, annot=True)\n",
    "    plt.show()\n",
    "\n",
    "perform_multivariate_analysis(df)"
   ],
   "metadata": {
    "collapsed": false
   }
  },
  {
   "cell_type": "markdown",
   "source": [],
   "metadata": {
    "collapsed": false
   }
  }
 ],
 "metadata": {
  "kernelspec": {
   "display_name": "Python 3",
   "language": "python",
   "name": "python3"
  },
  "language_info": {
   "codemirror_mode": {
    "name": "ipython",
    "version": 2
   },
   "file_extension": ".py",
   "mimetype": "text/x-python",
   "name": "python",
   "nbconvert_exporter": "python",
   "pygments_lexer": "ipython2",
   "version": "2.7.6"
  }
 },
 "nbformat": 4,
 "nbformat_minor": 0
}
